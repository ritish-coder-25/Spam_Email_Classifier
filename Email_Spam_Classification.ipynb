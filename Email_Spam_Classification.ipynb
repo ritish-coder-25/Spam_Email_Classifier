{
 "cells": [
  {
   "cell_type": "markdown",
   "id": "8e68b5bd-a2dc-4a48-8707-0da0f3200924",
   "metadata": {},
   "source": [
    "<h1>Spam Email Classifier</h1>\n",
    "<p>\n",
    "    In this project, I build a spam email classifier that can tell whether a given email is a spam email or not based on the email’s content\r\n",
    "There four main parts:\r\n",
    "Clean the data\r\n",
    "build feature vectors\r\n",
    "Use Naive Bayes Classifier, SVM(linear kernel) and Logistic Regression to training the data and make predictions\r\n",
    "Compare these models and discuss\n",
    "</p>"
   ]
  },
  {
   "cell_type": "code",
   "execution_count": 2,
   "id": "15e8299b-768b-4209-b796-d376d8accb54",
   "metadata": {},
   "outputs": [],
   "source": [
    "import pandas as pd\n",
    "from sklearn.feature_extraction.text import CountVectorizer\n",
    "from sklearn.model_selection import train_test_split\n",
    "from sklearn.naive_bayes import MultinomialNB\n",
    "from sklearn.svm import SVC\n",
    "from sklearn.linear_model import LogisticRegression\n",
    "from sklearn.metrics import classification_report, accuracy_score"
   ]
  },
  {
   "cell_type": "code",
   "execution_count": 4,
   "id": "02f9805f-4bc0-4a04-a40c-0c5518f98a4a",
   "metadata": {},
   "outputs": [],
   "source": [
    "#Load the dataset\n",
    "data = pd.read_csv('email_spam.csv', encoding='latin-1')\n",
    "data = data[['v1', 'v2']]\n",
    "data.columns = ['label', 'message']"
   ]
  },
  {
   "cell_type": "code",
   "execution_count": 5,
   "id": "345b135e-54a0-43f4-90e2-6b61653b1744",
   "metadata": {},
   "outputs": [],
   "source": [
    "#Map labels to binary values\n",
    "data['label'] = data['label'].map({'ham': 0, 'spam': 1})"
   ]
  },
  {
   "cell_type": "code",
   "execution_count": 6,
   "id": "6edf27a6-27ed-471d-bd51-93975b585004",
   "metadata": {},
   "outputs": [],
   "source": [
    "#Split data into training and testing sets\n",
    "X_train, X_test, y_train, y_test = train_test_split(data['message'], data['label'], test_size=0.2, random_state=42)"
   ]
  },
  {
   "cell_type": "code",
   "execution_count": 7,
   "id": "6c3be1b5-0d61-49ef-a911-a2b44bd46d48",
   "metadata": {},
   "outputs": [],
   "source": [
    "#Feature extraction\n",
    "vectorizer = CountVectorizer()\n",
    "X_train = vectorizer.fit_transform(X_train)\n",
    "X_test = vectorizer.transform(X_test)"
   ]
  },
  {
   "cell_type": "code",
   "execution_count": 8,
   "id": "8346d843-1237-429c-b5bb-3121e012df70",
   "metadata": {},
   "outputs": [],
   "source": [
    "#Naive Bayes Classifier\n",
    "nb_classifier = MultinomialNB()\n",
    "nb_classifier.fit(X_train, y_train)\n",
    "nb_pred = nb_classifier.predict(X_test)"
   ]
  },
  {
   "cell_type": "code",
   "execution_count": 9,
   "id": "6c580496-37dc-4aed-9dc1-ea002c16e70a",
   "metadata": {},
   "outputs": [],
   "source": [
    "#SVM Classifier\n",
    "svm_classifier = SVC(kernel='linear')\n",
    "svm_classifier.fit(X_train, y_train)\n",
    "svm_pred = svm_classifier.predict(X_test)"
   ]
  },
  {
   "cell_type": "code",
   "execution_count": 10,
   "id": "299adb44-4e1c-44b0-b4cd-bb30534fe0de",
   "metadata": {},
   "outputs": [],
   "source": [
    "#Logistic Regression Classifier\n",
    "lr_classifier = LogisticRegression()\n",
    "lr_classifier.fit(X_train, y_train)\n",
    "lr_pred = lr_classifier.predict(X_test)"
   ]
  },
  {
   "cell_type": "code",
   "execution_count": 11,
   "id": "fe200a6f-a56a-40d7-9c62-a344ddcee881",
   "metadata": {},
   "outputs": [
    {
     "name": "stdout",
     "output_type": "stream",
     "text": [
      "Naive Bayes Classifier:\n",
      "Accuracy: 0.9838565022421525\n",
      "Classification Report:\n",
      "              precision    recall  f1-score   support\n",
      "\n",
      "           0       0.98      1.00      0.99       965\n",
      "           1       0.99      0.89      0.94       150\n",
      "\n",
      "    accuracy                           0.98      1115\n",
      "   macro avg       0.98      0.95      0.96      1115\n",
      "weighted avg       0.98      0.98      0.98      1115\n",
      "\n",
      "\n",
      "SVM Classifier:\n",
      "Accuracy:  0.979372197309417\n",
      "Classification Report:\n",
      "              precision    recall  f1-score   support\n",
      "\n",
      "           0       0.98      1.00      0.99       965\n",
      "           1       0.97      0.87      0.92       150\n",
      "\n",
      "    accuracy                           0.98      1115\n",
      "   macro avg       0.98      0.93      0.95      1115\n",
      "weighted avg       0.98      0.98      0.98      1115\n",
      "\n",
      "\n",
      "Logistic Regression Classifier:\n",
      "Accuracy:  0.9775784753363229\n",
      "Classification Report:\n",
      "              precision    recall  f1-score   support\n",
      "\n",
      "           0       0.98      1.00      0.99       965\n",
      "           1       0.99      0.84      0.91       150\n",
      "\n",
      "    accuracy                           0.98      1115\n",
      "   macro avg       0.98      0.92      0.95      1115\n",
      "weighted avg       0.98      0.98      0.98      1115\n",
      "\n"
     ]
    }
   ],
   "source": [
    "#Model evaluation\n",
    "print('Naive Bayes Classifier:')\n",
    "print('Accuracy:', accuracy_score(y_test, nb_pred))\n",
    "print('Classification Report:')\n",
    "print(classification_report(y_test, nb_pred))\n",
    "\n",
    "print('\\nSVM Classifier:')\n",
    "print('Accuracy: ', accuracy_score(y_test, svm_pred))\n",
    "print('Classification Report:')\n",
    "print(classification_report(y_test, svm_pred))\n",
    "\n",
    "print('\\nLogistic Regression Classifier:')\n",
    "print('Accuracy: ', accuracy_score(y_test, lr_pred))\n",
    "print('Classification Report:')\n",
    "print(classification_report(y_test, lr_pred))"
   ]
  },
  {
   "cell_type": "code",
   "execution_count": null,
   "id": "676d596c-9136-41cc-8a09-b14452dd16cc",
   "metadata": {},
   "outputs": [],
   "source": []
  }
 ],
 "metadata": {
  "kernelspec": {
   "display_name": "Python 3 (ipykernel)",
   "language": "python",
   "name": "python3"
  },
  "language_info": {
   "codemirror_mode": {
    "name": "ipython",
    "version": 3
   },
   "file_extension": ".py",
   "mimetype": "text/x-python",
   "name": "python",
   "nbconvert_exporter": "python",
   "pygments_lexer": "ipython3",
   "version": "3.9.19"
  }
 },
 "nbformat": 4,
 "nbformat_minor": 5
}
